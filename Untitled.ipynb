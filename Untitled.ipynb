{
  "metadata": {
    "kernelspec": {
      "name": "python",
      "display_name": "Python (Pyodide)",
      "language": "python"
    },
    "language_info": {
      "codemirror_mode": {
        "name": "python",
        "version": 3
      },
      "file_extension": ".py",
      "mimetype": "text/x-python",
      "name": "python",
      "nbconvert_exporter": "python",
      "pygments_lexer": "ipython3",
      "version": "3.8"
    }
  },
  "nbformat_minor": 4,
  "nbformat": 4,
  "cells": [
    {
      "cell_type": "code",
      "source": "ip_add = [\"192.223.255.01\",\"192.223.255.02\",\"192.223.255.03\",\"192.223.255.04\",\"192.223.255.05\",\"190.223.255.06\",\"192.223.255.07\",]\ntest_ip = \"193.223.255.01\"\nfirst_list = []\n\ndef ip_first_three(ip_list):\n    for i in ip_list:\n        f3 = i[0:3]\n        first_list.append(f3)\n        print(f3)\n\nip_first_three(ip_add)\nprint(first_list)\n",
      "metadata": {
        "trusted": true
      },
      "outputs": [
        {
          "name": "stdout",
          "text": "192\n192\n192\n192\n192\n190\n192\n['192', '192', '192', '192', '192', '190', '192']\n",
          "output_type": "stream"
        }
      ],
      "execution_count": 8
    },
    {
      "cell_type": "code",
      "source": "\nimport re\n\nlog = \"hello@yahoo.com went to user1@aol.net, and found an interesting site with the following emails hello@gmail.com, format@gmail.com, reallt_cool214@gmail.com\"\n\nprint(re.findall(\"\\w+@\\w+\\.\\w+\", log))\n    \n",
      "metadata": {
        "trusted": true
      },
      "outputs": [
        {
          "name": "stdout",
          "text": "['hello@yahoo.com', 'user1@aol.net', 'hello@gmail.com', 'format@gmail.com', 'reallt_cool214@gmail.com']\n",
          "output_type": "stream"
        }
      ],
      "execution_count": 15
    },
    {
      "cell_type": "code",
      "source": "",
      "metadata": {
        "trusted": true
      },
      "outputs": [],
      "execution_count": null
    }
  ]
}